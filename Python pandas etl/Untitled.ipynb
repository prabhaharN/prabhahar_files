{
 "cells": [
  {
   "cell_type": "code",
   "execution_count": 59,
   "id": "488ce980-d66d-491b-8ee3-0b1da5b3254b",
   "metadata": {},
   "outputs": [
    {
     "name": "stdin",
     "output_type": "stream",
     "text": [
      "enter number \n",
      "1 - student_detail\n",
      "2 - promote\n",
      "             :  1\n"
     ]
    }
   ],
   "source": []
  },
  {
   "cell_type": "markdown",
   "id": "3b57f407-fe3f-4fc2-a033-a2f52f7f17bb",
   "metadata": {},
   "source": [
    "student_records={}"
   ]
  },
  {
   "cell_type": "code",
   "execution_count": 46,
   "id": "070abbd2-d1de-4995-a981-09202f831827",
   "metadata": {},
   "outputs": [
    {
     "name": "stdin",
     "output_type": "stream",
     "text": [
      "enter name :  arun\n",
      "enter roll_no :  1003\n",
      "enter age :  15\n",
      "enter grade :  10\n"
     ]
    }
   ],
   "source": [
    "student_name=(input('enter name : '))\n",
    "roll_no = int(input('enter roll_no : '))\n",
    "age=int(input('enter age : '))\n",
    "grade=int(input('enter grade : '))\n",
    "\n",
    "grd=range(1,13)\n",
    "\n",
    "if (len(str(roll_no))>3) and (age>4) and (student_name.isalpha()) and (grade in grd) :\n",
    "    student_detail={roll_no:[student_name,age,grade]}\n",
    "    student_records.update(student_detail)\n",
    "else:\n",
    "    print('input is worng')\n"
   ]
  },
  {
   "cell_type": "code",
   "execution_count": 47,
   "id": "3b8270e7-268a-4225-b5c7-2b83a21b3ef1",
   "metadata": {},
   "outputs": [
    {
     "data": {
      "text/plain": [
       "{1001: ['ajay', 9, 4], 1002: ['ram', 17, 11], 1003: ['arun', 15, 10]}"
      ]
     },
     "execution_count": 47,
     "metadata": {},
     "output_type": "execute_result"
    }
   ],
   "source": [
    "student_records"
   ]
  },
  {
   "cell_type": "code",
   "execution_count": 63,
   "id": "dd179a4b-f795-43cc-8f5a-c0ab431edf09",
   "metadata": {},
   "outputs": [
    {
     "name": "stdin",
     "output_type": "stream",
     "text": [
      "enter number \n",
      "    1 - storing student details\n",
      "    2 - student_detail\n",
      "    3 - promote\n",
      "    4 - student detail using grade\n",
      "    :  8\n"
     ]
    },
    {
     "name": "stdout",
     "output_type": "stream",
     "text": [
      "invalid process\n"
     ]
    }
   ],
   "source": [
    "process=int(input('''enter number \n",
    "    1 - storing student details\n",
    "    2 - student detail\n",
    "    3 - promote\n",
    "    4 - student detail using grade\n",
    "    : '''))\n",
    "if process==1:\n",
    "    student_name=(input('enter name : '))\n",
    "    roll_no = int(input('enter roll_no : '))\n",
    "    age=int(input('enter age : '))\n",
    "    grade=int(input('enter grade : '))\n",
    "\n",
    "    grd=range(1,13)\n",
    "\n",
    "    if (len(str(roll_no))>3) and (age>4) and (student_name.isalpha()) and (grade in grd) :\n",
    "        student_detail={roll_no:[student_name,age,grade]}\n",
    "        student_records.update(student_detail)\n",
    "        print('student detail stored')\n",
    "    else:\n",
    "        print('input is worng')\n",
    "    \n",
    "if process==2:\n",
    "    option=int(input('''enter option \n",
    "    1-all_stud_details\",\n",
    "    2 - particular\n",
    "    : '''))\n",
    "    if option==1:\n",
    "        print(student_records)\n",
    "    elif option ==2:\n",
    "        rl_no=int(input('enter roll_no : '))\n",
    "        if rl_no in student_records:\n",
    "            print(student_records[rl_no])\n",
    "        else:\n",
    "            print('no roll_no ')\n",
    "    else:\n",
    "        print('invalid option')\n",
    "elif process==3:\n",
    "    rl_no=int(input('enter roll_no : '))\n",
    "    if rl_no in student_records:\n",
    "        dlts=student_records[rl_no]\n",
    "        cur_grd=dlts[2]\n",
    "        if cur_grd<12:\n",
    "            nxt_grd=cur_grd+1\n",
    "            dlts[2]=nxt_grd\n",
    "            print('student promted from ',cur_grd,' to ',nxt_grd)\n",
    "        else:\n",
    "            print('student completed school')\n",
    "    else:\n",
    "        print('no roll_no ')\n",
    "\n",
    "elif process==4:\n",
    "    stud_info=int(input('enter grade : '))\n",
    "    c=0\n",
    "    for i in student_records:\n",
    "        if stud_info==student_records[i][2]:\n",
    "            print(student_records[i])\n",
    "        else:\n",
    "            c=c+1\n",
    "    if len(student_records)==c:\n",
    "        print('no student in grade')\n",
    "    \n",
    "\n",
    "else:\n",
    "    print('invalid process')\n",
    "        \n",
    "        \n",
    "\n",
    "        "
   ]
  },
  {
   "cell_type": "code",
   "execution_count": 65,
   "id": "97060fa6-3010-4893-9a78-4dff1204043a",
   "metadata": {},
   "outputs": [
    {
     "name": "stdin",
     "output_type": "stream",
     "text": [
      "enter number \n",
      "    1 - storing student details\n",
      "    2 - student detail\n",
      "    3 - promote\n",
      "    4 - student detail using grade\n",
      "    :  2\n"
     ]
    }
   ],
   "source": [
    "def process():\n",
    "    process=int(input('''enter number \n",
    "    1 - storing student details\n",
    "    2 - student detail\n",
    "    3 - promote\n",
    "    4 - student detail using grade\n",
    "    : '''))\n",
    "\n",
    "process()\n"
   ]
  },
  {
   "cell_type": "code",
   "execution_count": null,
   "id": "9f48f92b-c78e-4f01-b0c3-440ef0d0d34f",
   "metadata": {},
   "outputs": [],
   "source": [
    "def store_student_details():\n",
    "    student_name = input('Enter name: ')\n",
    "    roll_no = int(input('Enter roll number: '))\n",
    "    age = int(input('Enter age: '))\n",
    "    grade = int(input('Enter grade: '))\n",
    "\n",
    "    if len(str(roll_no)) > 3 and age > 4 and student_name.isalpha() and grade in range(1, 13):\n",
    "        student_records[roll_no] = [student_name, age, grade]\n",
    "        print('Student details stored successfully.')\n",
    "    else:\n",
    "        print('Invalid input. Please check the requirements.')\n",
    "\n",
    "def display_student_details():\n",
    "    option = int(input('Enter option:\\n 1 - All student details\\n 2 - Particular student\\n: '))\n",
    "    if option == 1:\n",
    "        print(student_records)\n",
    "    elif option == 2:\n",
    "        roll_no = int(input('Enter roll number: '))\n",
    "        if roll_no in student_records:\n",
    "            print(student_records[roll_no])\n",
    "        else:\n",
    "            print('No student with that roll number.')\n",
    "    else:\n",
    "        print('Invalid option.')\n",
    "\n",
    "def promote_student():\n",
    "    roll_no = int(input('Enter roll number: '))\n",
    "    if roll_no in student_records:\n",
    "        current_grade = student_records[roll_no][2]\n",
    "        if current_grade < 12:\n",
    "            next_grade = current_grade + 1\n",
    "            student_records[roll_no][2] = next_grade\n",
    "            print(f'Student promoted from grade {current_grade} to {next_grade}.')\n",
    "        else:\n",
    "            print('Student has completed school.')\n",
    "    else:\n",
    "        print('No student with that roll number.')\n",
    "\n",
    "def search_students_by_grade():\n",
    "    stud_info = int(input('Enter grade: '))\n",
    "    found = False\n",
    "    for roll, details in student_records.items():\n",
    "        if details[2] == stud_info:\n",
    "            print(details)\n",
    "            found = True\n",
    "    if not found:\n",
    "        print('No students in that grade.')\n",
    "\n",
    "# Initialize an empty dictionary to store student records\n",
    "student_records = {}\n",
    "\n",
    "process = int(input('''Enter number:\n",
    "1 - Store student details\n",
    "2 - Display student details\n",
    "3 - Promote student\n",
    "4 - Search students by grade\n",
    ": '''))\n",
    "\n",
    "if process == 1:\n",
    "    store_student_details()\n",
    "elif process == 2:\n",
    "    display_student_details()\n",
    "elif process == 3:\n",
    "    promote_student()\n",
    "elif process == 4:\n",
    "    search_students_by_grade()\n",
    "else:\n",
    "    print('Invalid process. Please choose a valid option.')"
   ]
  }
 ],
 "metadata": {
  "kernelspec": {
   "display_name": "Python 3 (ipykernel)",
   "language": "python",
   "name": "python3"
  },
  "language_info": {
   "codemirror_mode": {
    "name": "ipython",
    "version": 3
   },
   "file_extension": ".py",
   "mimetype": "text/x-python",
   "name": "python",
   "nbconvert_exporter": "python",
   "pygments_lexer": "ipython3",
   "version": "3.11.5"
  }
 },
 "nbformat": 4,
 "nbformat_minor": 5
}
