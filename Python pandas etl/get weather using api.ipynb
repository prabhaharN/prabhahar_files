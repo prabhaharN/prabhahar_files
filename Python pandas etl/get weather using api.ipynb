{
 "cells": [
  {
   "cell_type": "code",
   "execution_count": 3,
   "id": "5536ff4a-26f2-4eea-b87b-1dbde740c935",
   "metadata": {},
   "outputs": [
    {
     "name": "stdin",
     "output_type": "stream",
     "text": [
      "enter city :  chennai\n"
     ]
    },
    {
     "data": {
      "text/plain": [
       "35.07"
      ]
     },
     "execution_count": 3,
     "metadata": {},
     "output_type": "execute_result"
    }
   ],
   "source": [
    "import requests\n",
    "import json\n",
    "city=input('enter city : ')\n",
    "api=f'https://api.openweathermap.org/data/2.5/weather?q={city}&appid=37d99f4c8bd8fa96d4509c54c8a262d7'\n",
    "response_API = requests.get(api)\n",
    "data = response_API.text\n",
    "parse_json = json.loads(data)\n",
    "tempearute_in_K=parse_json['main']['temp']\n",
    "temperature_in_C=tempearute_in_K-273\n",
    "round(temperature_in_C,2)"
   ]
  },
  {
   "cell_type": "code",
   "execution_count": 20,
   "id": "46b975bd-f4b6-40b8-9e76-021371778c26",
   "metadata": {},
   "outputs": [
    {
     "data": {
      "text/plain": [
       "'{\"coord\":{\"lon\":80.2785,\"lat\":13.0878},\"weather\":[{\"id\":802,\"main\":\"Clouds\",\"description\":\"scattered clouds\",\"icon\":\"03d\"}],\"base\":\"stations\",\"main\":{\"temp\":305.29,\"feels_like\":312.29,\"temp_min\":304.14,\"temp_max\":305.93,\"pressure\":1002,\"humidity\":67},\"visibility\":6000,\"wind\":{\"speed\":5.14,\"deg\":230},\"clouds\":{\"all\":40},\"dt\":1719208864,\"sys\":{\"type\":2,\"id\":2093220,\"country\":\"IN\",\"sunrise\":1719188066,\"sunset\":1719234487},\"timezone\":19800,\"id\":1264527,\"name\":\"Chennai\",\"cod\":200}'"
      ]
     },
     "execution_count": 20,
     "metadata": {},
     "output_type": "execute_result"
    }
   ],
   "source": [
    "\n",
    "data"
   ]
  },
  {
   "cell_type": "code",
   "execution_count": 14,
   "id": "b3d8753a-6183-4e8c-974f-62f9e3e00f21",
   "metadata": {},
   "outputs": [],
   "source": [
    "\n"
   ]
  },
  {
   "cell_type": "code",
   "execution_count": 19,
   "id": "403f80d2-e1fe-4855-b753-34c2c99d5ae4",
   "metadata": {},
   "outputs": [
    {
     "data": {
      "text/plain": [
       "32.29"
      ]
     },
     "execution_count": 19,
     "metadata": {},
     "output_type": "execute_result"
    }
   ],
   "source": []
  },
  {
   "cell_type": "code",
   "execution_count": null,
   "id": "d486d55b-2be8-43b3-8404-aec72a462064",
   "metadata": {},
   "outputs": [],
   "source": []
  }
 ],
 "metadata": {
  "kernelspec": {
   "display_name": "Python 3 (ipykernel)",
   "language": "python",
   "name": "python3"
  },
  "language_info": {
   "codemirror_mode": {
    "name": "ipython",
    "version": 3
   },
   "file_extension": ".py",
   "mimetype": "text/x-python",
   "name": "python",
   "nbconvert_exporter": "python",
   "pygments_lexer": "ipython3",
   "version": "3.11.5"
  }
 },
 "nbformat": 4,
 "nbformat_minor": 5
}
