{
 "cells": [
  {
   "cell_type": "code",
   "execution_count": 1,
   "id": "c77b01df-459e-4450-b5c1-5e5b2e5dad8d",
   "metadata": {},
   "outputs": [],
   "source": [
    "import pandas as pd"
   ]
  },
  {
   "cell_type": "code",
   "execution_count": 10,
   "id": "4821b968-8945-4bbf-bd00-4e6a83a94f8e",
   "metadata": {},
   "outputs": [],
   "source": [
    "df=pd.read_csv('sales_data.csv')"
   ]
  },
  {
   "cell_type": "code",
   "execution_count": 77,
   "id": "c137f675-bc39-46cb-8a18-99d20d575e04",
   "metadata": {
    "scrolled": true
   },
   "outputs": [],
   "source": [
    "sales=df.copy()"
   ]
  },
  {
   "cell_type": "code",
   "execution_count": 78,
   "id": "b2168dc4-745a-4aed-95dd-a68fcb4168bb",
   "metadata": {},
   "outputs": [
    {
     "data": {
      "text/html": [
       "<div>\n",
       "<style scoped>\n",
       "    .dataframe tbody tr th:only-of-type {\n",
       "        vertical-align: middle;\n",
       "    }\n",
       "\n",
       "    .dataframe tbody tr th {\n",
       "        vertical-align: top;\n",
       "    }\n",
       "\n",
       "    .dataframe thead th {\n",
       "        text-align: right;\n",
       "    }\n",
       "</style>\n",
       "<table border=\"1\" class=\"dataframe\">\n",
       "  <thead>\n",
       "    <tr style=\"text-align: right;\">\n",
       "      <th></th>\n",
       "      <th>Date</th>\n",
       "      <th>Day</th>\n",
       "      <th>Month</th>\n",
       "      <th>Year</th>\n",
       "      <th>Customer_Age</th>\n",
       "      <th>Age_Group</th>\n",
       "      <th>Customer_Gender</th>\n",
       "      <th>Country</th>\n",
       "      <th>State</th>\n",
       "      <th>Product_Category</th>\n",
       "      <th>Sub_Category</th>\n",
       "      <th>Product</th>\n",
       "      <th>Order_Quantity</th>\n",
       "      <th>Unit_Cost</th>\n",
       "      <th>Unit_Price</th>\n",
       "      <th>Profit</th>\n",
       "      <th>Cost</th>\n",
       "      <th>Revenue</th>\n",
       "    </tr>\n",
       "  </thead>\n",
       "  <tbody>\n",
       "    <tr>\n",
       "      <th>0</th>\n",
       "      <td>2013-11-26</td>\n",
       "      <td>26</td>\n",
       "      <td>November</td>\n",
       "      <td>2013</td>\n",
       "      <td>19</td>\n",
       "      <td>Youth (&lt;25)</td>\n",
       "      <td>M</td>\n",
       "      <td>Canada</td>\n",
       "      <td>British Columbia</td>\n",
       "      <td>Accessories</td>\n",
       "      <td>Bike Racks</td>\n",
       "      <td>Hitch Rack - 4-Bike</td>\n",
       "      <td>8</td>\n",
       "      <td>45</td>\n",
       "      <td>120</td>\n",
       "      <td>590</td>\n",
       "      <td>360</td>\n",
       "      <td>950</td>\n",
       "    </tr>\n",
       "    <tr>\n",
       "      <th>1</th>\n",
       "      <td>2015-11-26</td>\n",
       "      <td>26</td>\n",
       "      <td>November</td>\n",
       "      <td>2015</td>\n",
       "      <td>19</td>\n",
       "      <td>Youth (&lt;25)</td>\n",
       "      <td>M</td>\n",
       "      <td>Canada</td>\n",
       "      <td>British Columbia</td>\n",
       "      <td>Accessories</td>\n",
       "      <td>Bike Racks</td>\n",
       "      <td>Hitch Rack - 4-Bike</td>\n",
       "      <td>8</td>\n",
       "      <td>45</td>\n",
       "      <td>120</td>\n",
       "      <td>590</td>\n",
       "      <td>360</td>\n",
       "      <td>950</td>\n",
       "    </tr>\n",
       "    <tr>\n",
       "      <th>2</th>\n",
       "      <td>2014-03-23</td>\n",
       "      <td>23</td>\n",
       "      <td>March</td>\n",
       "      <td>2014</td>\n",
       "      <td>49</td>\n",
       "      <td>Adults (35-64)</td>\n",
       "      <td>M</td>\n",
       "      <td>Australia</td>\n",
       "      <td>New South Wales</td>\n",
       "      <td>Accessories</td>\n",
       "      <td>Bike Racks</td>\n",
       "      <td>Hitch Rack - 4-Bike</td>\n",
       "      <td>23</td>\n",
       "      <td>45</td>\n",
       "      <td>120</td>\n",
       "      <td>1366</td>\n",
       "      <td>1035</td>\n",
       "      <td>2401</td>\n",
       "    </tr>\n",
       "    <tr>\n",
       "      <th>3</th>\n",
       "      <td>2016-03-23</td>\n",
       "      <td>23</td>\n",
       "      <td>March</td>\n",
       "      <td>2016</td>\n",
       "      <td>49</td>\n",
       "      <td>Adults (35-64)</td>\n",
       "      <td>M</td>\n",
       "      <td>Australia</td>\n",
       "      <td>New South Wales</td>\n",
       "      <td>Accessories</td>\n",
       "      <td>Bike Racks</td>\n",
       "      <td>Hitch Rack - 4-Bike</td>\n",
       "      <td>20</td>\n",
       "      <td>45</td>\n",
       "      <td>120</td>\n",
       "      <td>1188</td>\n",
       "      <td>900</td>\n",
       "      <td>2088</td>\n",
       "    </tr>\n",
       "    <tr>\n",
       "      <th>4</th>\n",
       "      <td>2014-05-15</td>\n",
       "      <td>15</td>\n",
       "      <td>May</td>\n",
       "      <td>2014</td>\n",
       "      <td>47</td>\n",
       "      <td>Adults (35-64)</td>\n",
       "      <td>F</td>\n",
       "      <td>Australia</td>\n",
       "      <td>New South Wales</td>\n",
       "      <td>Accessories</td>\n",
       "      <td>Bike Racks</td>\n",
       "      <td>Hitch Rack - 4-Bike</td>\n",
       "      <td>4</td>\n",
       "      <td>45</td>\n",
       "      <td>120</td>\n",
       "      <td>238</td>\n",
       "      <td>180</td>\n",
       "      <td>418</td>\n",
       "    </tr>\n",
       "    <tr>\n",
       "      <th>...</th>\n",
       "      <td>...</td>\n",
       "      <td>...</td>\n",
       "      <td>...</td>\n",
       "      <td>...</td>\n",
       "      <td>...</td>\n",
       "      <td>...</td>\n",
       "      <td>...</td>\n",
       "      <td>...</td>\n",
       "      <td>...</td>\n",
       "      <td>...</td>\n",
       "      <td>...</td>\n",
       "      <td>...</td>\n",
       "      <td>...</td>\n",
       "      <td>...</td>\n",
       "      <td>...</td>\n",
       "      <td>...</td>\n",
       "      <td>...</td>\n",
       "      <td>...</td>\n",
       "    </tr>\n",
       "    <tr>\n",
       "      <th>113031</th>\n",
       "      <td>2016-04-12</td>\n",
       "      <td>12</td>\n",
       "      <td>April</td>\n",
       "      <td>2016</td>\n",
       "      <td>41</td>\n",
       "      <td>Adults (35-64)</td>\n",
       "      <td>M</td>\n",
       "      <td>United Kingdom</td>\n",
       "      <td>England</td>\n",
       "      <td>Clothing</td>\n",
       "      <td>Vests</td>\n",
       "      <td>Classic Vest, S</td>\n",
       "      <td>3</td>\n",
       "      <td>24</td>\n",
       "      <td>64</td>\n",
       "      <td>112</td>\n",
       "      <td>72</td>\n",
       "      <td>184</td>\n",
       "    </tr>\n",
       "    <tr>\n",
       "      <th>113032</th>\n",
       "      <td>2014-04-02</td>\n",
       "      <td>2</td>\n",
       "      <td>April</td>\n",
       "      <td>2014</td>\n",
       "      <td>18</td>\n",
       "      <td>Youth (&lt;25)</td>\n",
       "      <td>M</td>\n",
       "      <td>Australia</td>\n",
       "      <td>Queensland</td>\n",
       "      <td>Clothing</td>\n",
       "      <td>Vests</td>\n",
       "      <td>Classic Vest, M</td>\n",
       "      <td>22</td>\n",
       "      <td>24</td>\n",
       "      <td>64</td>\n",
       "      <td>655</td>\n",
       "      <td>528</td>\n",
       "      <td>1183</td>\n",
       "    </tr>\n",
       "    <tr>\n",
       "      <th>113033</th>\n",
       "      <td>2016-04-02</td>\n",
       "      <td>2</td>\n",
       "      <td>April</td>\n",
       "      <td>2016</td>\n",
       "      <td>18</td>\n",
       "      <td>Youth (&lt;25)</td>\n",
       "      <td>M</td>\n",
       "      <td>Australia</td>\n",
       "      <td>Queensland</td>\n",
       "      <td>Clothing</td>\n",
       "      <td>Vests</td>\n",
       "      <td>Classic Vest, M</td>\n",
       "      <td>22</td>\n",
       "      <td>24</td>\n",
       "      <td>64</td>\n",
       "      <td>655</td>\n",
       "      <td>528</td>\n",
       "      <td>1183</td>\n",
       "    </tr>\n",
       "    <tr>\n",
       "      <th>113034</th>\n",
       "      <td>2014-03-04</td>\n",
       "      <td>4</td>\n",
       "      <td>March</td>\n",
       "      <td>2014</td>\n",
       "      <td>37</td>\n",
       "      <td>Adults (35-64)</td>\n",
       "      <td>F</td>\n",
       "      <td>France</td>\n",
       "      <td>Seine (Paris)</td>\n",
       "      <td>Clothing</td>\n",
       "      <td>Vests</td>\n",
       "      <td>Classic Vest, L</td>\n",
       "      <td>24</td>\n",
       "      <td>24</td>\n",
       "      <td>64</td>\n",
       "      <td>684</td>\n",
       "      <td>576</td>\n",
       "      <td>1260</td>\n",
       "    </tr>\n",
       "    <tr>\n",
       "      <th>113035</th>\n",
       "      <td>2016-03-04</td>\n",
       "      <td>4</td>\n",
       "      <td>March</td>\n",
       "      <td>2016</td>\n",
       "      <td>37</td>\n",
       "      <td>Adults (35-64)</td>\n",
       "      <td>F</td>\n",
       "      <td>France</td>\n",
       "      <td>Seine (Paris)</td>\n",
       "      <td>Clothing</td>\n",
       "      <td>Vests</td>\n",
       "      <td>Classic Vest, L</td>\n",
       "      <td>23</td>\n",
       "      <td>24</td>\n",
       "      <td>64</td>\n",
       "      <td>655</td>\n",
       "      <td>552</td>\n",
       "      <td>1207</td>\n",
       "    </tr>\n",
       "  </tbody>\n",
       "</table>\n",
       "<p>113036 rows × 18 columns</p>\n",
       "</div>"
      ],
      "text/plain": [
       "              Date  Day     Month  Year  Customer_Age       Age_Group  \\\n",
       "0       2013-11-26   26  November  2013            19     Youth (<25)   \n",
       "1       2015-11-26   26  November  2015            19     Youth (<25)   \n",
       "2       2014-03-23   23     March  2014            49  Adults (35-64)   \n",
       "3       2016-03-23   23     March  2016            49  Adults (35-64)   \n",
       "4       2014-05-15   15       May  2014            47  Adults (35-64)   \n",
       "...            ...  ...       ...   ...           ...             ...   \n",
       "113031  2016-04-12   12     April  2016            41  Adults (35-64)   \n",
       "113032  2014-04-02    2     April  2014            18     Youth (<25)   \n",
       "113033  2016-04-02    2     April  2016            18     Youth (<25)   \n",
       "113034  2014-03-04    4     March  2014            37  Adults (35-64)   \n",
       "113035  2016-03-04    4     March  2016            37  Adults (35-64)   \n",
       "\n",
       "       Customer_Gender         Country             State Product_Category  \\\n",
       "0                    M          Canada  British Columbia      Accessories   \n",
       "1                    M          Canada  British Columbia      Accessories   \n",
       "2                    M       Australia   New South Wales      Accessories   \n",
       "3                    M       Australia   New South Wales      Accessories   \n",
       "4                    F       Australia   New South Wales      Accessories   \n",
       "...                ...             ...               ...              ...   \n",
       "113031               M  United Kingdom           England         Clothing   \n",
       "113032               M       Australia        Queensland         Clothing   \n",
       "113033               M       Australia        Queensland         Clothing   \n",
       "113034               F          France     Seine (Paris)         Clothing   \n",
       "113035               F          France     Seine (Paris)         Clothing   \n",
       "\n",
       "       Sub_Category              Product  Order_Quantity  Unit_Cost  \\\n",
       "0        Bike Racks  Hitch Rack - 4-Bike               8         45   \n",
       "1        Bike Racks  Hitch Rack - 4-Bike               8         45   \n",
       "2        Bike Racks  Hitch Rack - 4-Bike              23         45   \n",
       "3        Bike Racks  Hitch Rack - 4-Bike              20         45   \n",
       "4        Bike Racks  Hitch Rack - 4-Bike               4         45   \n",
       "...             ...                  ...             ...        ...   \n",
       "113031        Vests      Classic Vest, S               3         24   \n",
       "113032        Vests      Classic Vest, M              22         24   \n",
       "113033        Vests      Classic Vest, M              22         24   \n",
       "113034        Vests      Classic Vest, L              24         24   \n",
       "113035        Vests      Classic Vest, L              23         24   \n",
       "\n",
       "        Unit_Price  Profit  Cost  Revenue  \n",
       "0              120     590   360      950  \n",
       "1              120     590   360      950  \n",
       "2              120    1366  1035     2401  \n",
       "3              120    1188   900     2088  \n",
       "4              120     238   180      418  \n",
       "...            ...     ...   ...      ...  \n",
       "113031          64     112    72      184  \n",
       "113032          64     655   528     1183  \n",
       "113033          64     655   528     1183  \n",
       "113034          64     684   576     1260  \n",
       "113035          64     655   552     1207  \n",
       "\n",
       "[113036 rows x 18 columns]"
      ]
     },
     "execution_count": 78,
     "metadata": {},
     "output_type": "execute_result"
    }
   ],
   "source": [
    "sales.dropna()"
   ]
  },
  {
   "cell_type": "code",
   "execution_count": 19,
   "id": "f6a7509d-0409-4990-a5c8-facd5a0ab195",
   "metadata": {},
   "outputs": [
    {
     "data": {
      "text/plain": [
       "6"
      ]
     },
     "execution_count": 19,
     "metadata": {},
     "output_type": "execute_result"
    }
   ],
   "source": [
    "#How many unique countries are represented in the sales data?\n",
    "\n",
    "country=sales['Country'].unique()\n",
    "len(country)"
   ]
  },
  {
   "cell_type": "code",
   "execution_count": 20,
   "id": "93f7e10d-d219-4020-9492-2805845fbc55",
   "metadata": {},
   "outputs": [
    {
     "data": {
      "text/plain": [
       "85271008"
      ]
     },
     "execution_count": 20,
     "metadata": {},
     "output_type": "execute_result"
    }
   ],
   "source": [
    "#What is the total revenue generated by the sales data?\n",
    "total_revenue=sales['Revenue'].sum()\n",
    "total revenue"
   ]
  },
  {
   "cell_type": "code",
   "execution_count": 21,
   "id": "5f630f41-4811-4f70-946e-b65080363fea",
   "metadata": {},
   "outputs": [
    {
     "data": {
      "text/plain": [
       "3"
      ]
     },
     "execution_count": 21,
     "metadata": {},
     "output_type": "execute_result"
    }
   ],
   "source": [
    "#How many different product categories are there in the sales data?\n",
    "\n",
    "Product_Category=sales['Product_Category'].unique()\n",
    "len(Product_Category)\n"
   ]
  },
  {
   "cell_type": "code",
   "execution_count": 23,
   "id": "c174390e-177f-4e1b-b7ed-cefd097d34ce",
   "metadata": {},
   "outputs": [
    {
     "data": {
      "text/plain": [
       "Product_Category\n",
       "Accessories    15.033685\n",
       "Bikes           1.401393\n",
       "Clothing       15.043286\n",
       "Name: Order_Quantity, dtype: float64"
      ]
     },
     "execution_count": 23,
     "metadata": {},
     "output_type": "execute_result"
    }
   ],
   "source": [
    "#What is the average order quantity for each product category?\n",
    "\n",
    "average_order_quantity=sales.groupby('Product_Category')['Order_Quantity'].mean()\n",
    "average_order_quantity"
   ]
  },
  {
   "cell_type": "code",
   "execution_count": 26,
   "id": "021bb25e-4b02-40ca-aa40-ed554426d941",
   "metadata": {},
   "outputs": [
    {
     "data": {
      "text/plain": [
       "Year\n",
       "2011     2677\n",
       "2012     2677\n",
       "2013    24443\n",
       "2014    29398\n",
       "2015    24443\n",
       "2016    29398\n",
       "Name: Order_Quantity, dtype: int64"
      ]
     },
     "execution_count": 26,
     "metadata": {},
     "output_type": "execute_result"
    }
   ],
   "source": [
    "#How many orders were placed in each year?\n",
    "orders_in_each_year=sales.groupby('Year')['Order_Quantity'].count()\n",
    "orders_in_each_year"
   ]
  },
  {
   "cell_type": "code",
   "execution_count": 27,
   "id": "208f1c1d-d434-4190-a371-bc0073b8a8cc",
   "metadata": {},
   "outputs": [
    {
     "data": {
      "text/plain": [
       "Year\n",
       "2011    2881301\n",
       "2012    2951993\n",
       "2013    5959208\n",
       "2014    5864087\n",
       "2015    7528563\n",
       "2016    7035948\n",
       "Name: Profit, dtype: int64"
      ]
     },
     "execution_count": 27,
     "metadata": {},
     "output_type": "execute_result"
    }
   ],
   "source": [
    "#What is the total profit earned in each year?\n",
    "total_profit_in_each_year=sales.groupby('Year')['Profit'].sum()\n",
    "total_profit_in_each_year"
   ]
  },
  {
   "cell_type": "code",
   "execution_count": 29,
   "id": "d2f709b3-e25a-4bcc-aee8-36fd5108f909",
   "metadata": {},
   "outputs": [
    {
     "data": {
      "text/plain": [
       "Sub_Category\n",
       "Bike Racks            120.00\n",
       "Bike Stands           158.66\n",
       "Bottles and Cages       6.43\n",
       "Caps                    9.00\n",
       "Cleaners                8.00\n",
       "Fenders                21.99\n",
       "Gloves                 24.00\n",
       "Helmets                35.00\n",
       "Hydration Packs        54.97\n",
       "Jerseys                51.86\n",
       "Mountain Bikes       1973.94\n",
       "Road Bikes           1898.90\n",
       "Shorts                 70.00\n",
       "Socks                   9.22\n",
       "Tires and Tubes         9.98\n",
       "Touring Bikes        1734.94\n",
       "Vests                  68.81\n",
       "Name: Unit_Price, dtype: float64"
      ]
     },
     "execution_count": 29,
     "metadata": {},
     "output_type": "execute_result"
    }
   ],
   "source": [
    "#What is the average unit price for each product sub-category?\n",
    "average_unit_price_sub_category=sales.groupby('Sub_Category')['Unit_Price'].mean()\n",
    "round(average_unit_price_sub_category,2)"
   ]
  },
  {
   "cell_type": "code",
   "execution_count": 30,
   "id": "5bccd3af-fb2c-4beb-998f-dcd7afc0f87a",
   "metadata": {},
   "outputs": [
    {
     "data": {
      "text/plain": [
       "Age_Group\n",
       "Adults (35-64)          55824\n",
       "Seniors (64+)             730\n",
       "Young Adults (25-34)    38654\n",
       "Youth (<25)             17828\n",
       "Name: Order_Quantity, dtype: int64"
      ]
     },
     "execution_count": 30,
     "metadata": {},
     "output_type": "execute_result"
    }
   ],
   "source": [
    "#How many orders were placed by customers in each age group?\n",
    "\n",
    "orders_customers_in_each_age_group=sales.groupby('Age_Group')['Order_Quantity'].count()\n",
    "orders_customers_in_each_age_group"
   ]
  },
  {
   "cell_type": "code",
   "execution_count": 31,
   "id": "e9d69e4b-1d19-4e61-9f31-4af142e706bb",
   "metadata": {},
   "outputs": [
    {
     "data": {
      "text/plain": [
       "43335409"
      ]
     },
     "execution_count": 31,
     "metadata": {},
     "output_type": "execute_result"
    }
   ],
   "source": [
    "#What is the total revenue generated by male customers in each country?\n",
    "revenue_by_male=sales[sales['Customer_Gender']=='M']['Revenue'].sum()\n",
    "revenue_by_male"
   ]
  },
  {
   "cell_type": "code",
   "execution_count": 32,
   "id": "3a269ca4-07a4-4ad5-b079-757543afd6e8",
   "metadata": {},
   "outputs": [
    {
     "data": {
      "text/plain": [
       "41935599"
      ]
     },
     "execution_count": 32,
     "metadata": {},
     "output_type": "execute_result"
    }
   ],
   "source": [
    "#What is the total revenue generated by female customers in each state?\n",
    "revenue_by_female=sales[sales['Customer_Gender']=='F']['Revenue'].sum()\n",
    "revenue_by_female"
   ]
  },
  {
   "cell_type": "code",
   "execution_count": 33,
   "id": "b28af058-430f-402d-b08b-c6f21aca1dbb",
   "metadata": {},
   "outputs": [
    {
     "data": {
      "text/plain": [
       "Month\n",
       "April        118467\n",
       "August       103119\n",
       "December     133312\n",
       "February     104717\n",
       "January      110367\n",
       "July          89787\n",
       "June         128591\n",
       "March        111085\n",
       "May          125715\n",
       "November     108637\n",
       "October      108348\n",
       "September    103171\n",
       "Name: Order_Quantity, dtype: int64"
      ]
     },
     "execution_count": 33,
     "metadata": {},
     "output_type": "execute_result"
    }
   ],
   "source": [
    "#How many products were sold in each month?\n",
    "\n",
    "products_sold_each_month=sales.groupby('Month')['Order_Quantity'].sum()\n",
    "products_sold_each_month"
   ]
  },
  {
   "cell_type": "code",
   "execution_count": 34,
   "id": "ea8562ba-46ce-4c57-bed3-53e791930411",
   "metadata": {},
   "outputs": [
    {
     "data": {
      "text/plain": [
       "Sub_Category\n",
       "Bike Racks             213345\n",
       "Bike Stands            142140\n",
       "Bottles and Cages      598576\n",
       "Caps                   470856\n",
       "Cleaners                82930\n",
       "Fenders                496819\n",
       "Gloves                 359765\n",
       "Helmets               2360878\n",
       "Hydration Packs        417738\n",
       "Jerseys               3510174\n",
       "Mountain Bikes       12963063\n",
       "Road Bikes           23284186\n",
       "Shorts                 706368\n",
       "Socks                   54000\n",
       "Tires and Tubes       1943189\n",
       "Touring Bikes         5015609\n",
       "Vests                  430272\n",
       "Name: Cost, dtype: int64"
      ]
     },
     "execution_count": 34,
     "metadata": {},
     "output_type": "execute_result"
    }
   ],
   "source": [
    "#What is the total cost incurred for each product sub-category?\n",
    "total_cost_each_product_sub_category=sales.groupby('Sub_Category')['Cost'].sum()\n",
    "total_cost_each_product_sub_category"
   ]
  },
  {
   "cell_type": "code",
   "execution_count": 35,
   "id": "6b3acfe4-7e57-49d8-8568-6e792fccc774",
   "metadata": {},
   "outputs": [
    {
     "data": {
      "text/plain": [
       "Product\n",
       "AWC Logo Cap                    7.0\n",
       "All-Purpose Bike Stand         59.0\n",
       "Bike Wash - Dissolver           3.0\n",
       "Classic Vest, L                24.0\n",
       "Classic Vest, M                24.0\n",
       "                              ...  \n",
       "Touring-3000 Yellow, 62       461.0\n",
       "Water Bottle - 30 oz.           2.0\n",
       "Women's Mountain Shorts, L     26.0\n",
       "Women's Mountain Shorts, M     26.0\n",
       "Women's Mountain Shorts, S     26.0\n",
       "Name: Unit_Cost, Length: 130, dtype: float64"
      ]
     },
     "execution_count": 35,
     "metadata": {},
     "output_type": "execute_result"
    }
   ],
   "source": [
    "#What is the average unit cost for each product?\n",
    "average_unit_cost_each_product = sales.groupby('Product')['Unit_Cost'].mean()\n",
    "average_unit_cost_each_product"
   ]
  },
  {
   "cell_type": "code",
   "execution_count": 79,
   "id": "2ecb9494-42af-422f-b155-bc5a386f22c9",
   "metadata": {},
   "outputs": [],
   "source": [
    "\n",
    "\n",
    "# sales['Date'] = pd.to_datetime(sales['Date'],\n",
    "#                             errors ='coerce')\n",
    "# sales['Date'].astype('int64').dtypes\n",
    "# all_dates=sales['Date']\n",
    "\n",
    "# week = all_dates.dt.strftime('%U')\n",
    "# sales['week']=week\n",
    "# sales['week_day']=all_dates.dt.weekday\n",
    "# sales\n",
    "\n"
   ]
  },
  {
   "cell_type": "code",
   "execution_count": 80,
   "id": "954f17e8-f36b-4c3c-b5ab-864a41042b0a",
   "metadata": {},
   "outputs": [
    {
     "data": {
      "text/plain": [
       "Date\n",
       "0    190157\n",
       "1    192453\n",
       "2    190480\n",
       "3    194683\n",
       "4    190413\n",
       "5    195702\n",
       "6    191428\n",
       "Name: Order_Quantity, dtype: int64"
      ]
     },
     "execution_count": 80,
     "metadata": {},
     "output_type": "execute_result"
    }
   ],
   "source": [
    "#How many orders were placed on each day of the week?\n",
    "sales['Date'] = pd.to_datetime(sales['Date'], errors='coerce')\n",
    "order_each_day_of_week = sales.groupby(sales['Date'].dt.weekday)['Order_Quantity'].sum()\n",
    "order_each_day_of_week"
   ]
  },
  {
   "cell_type": "code",
   "execution_count": 81,
   "id": "c48e58da-708f-4137-875b-bf83c2dd942a",
   "metadata": {},
   "outputs": [
    {
     "data": {
      "text/plain": [
       "Month\n",
       "April        7602750\n",
       "August       5711193\n",
       "December     9086931\n",
       "February     6834583\n",
       "January      7005895\n",
       "July         5721459\n",
       "June         9043008\n",
       "March        7347164\n",
       "May          8836763\n",
       "November     6244298\n",
       "October      5995079\n",
       "September    5841885\n",
       "Name: Revenue, dtype: int64"
      ]
     },
     "execution_count": 81,
     "metadata": {},
     "output_type": "execute_result"
    }
   ],
   "source": [
    "#What is the total revenue generated in each month of the year?\n",
    "\n",
    "total_revenue_each_month=sales.groupby('Month')['Revenue'].sum()\n",
    "total_revenue_each_month"
   ]
  },
  {
   "cell_type": "code",
   "execution_count": 83,
   "id": "1a86557c-9f17-4b0d-bb7a-16e0c66dc96e",
   "metadata": {},
   "outputs": [
    {
     "data": {
      "text/plain": [
       "Product\n",
       "AWC Logo Cap                   4358\n",
       "All-Purpose Bike Stand          452\n",
       "Bike Wash - Dissolver          1804\n",
       "Classic Vest, L                 318\n",
       "Classic Vest, M                 320\n",
       "                              ...  \n",
       "Touring-3000 Yellow, 62          72\n",
       "Water Bottle - 30 oz.         10794\n",
       "Women's Mountain Shorts, L      516\n",
       "Women's Mountain Shorts, M      662\n",
       "Women's Mountain Shorts, S      620\n",
       "Name: Order_Quantity, Length: 130, dtype: int64"
      ]
     },
     "execution_count": 83,
     "metadata": {},
     "output_type": "execute_result"
    }
   ],
   "source": [
    "#How many orders were placed for each product?\n",
    "\n",
    "order_placed_each_product=sales.groupby('Product')['Order_Quantity'].count()\n",
    "order_placed_each_product"
   ]
  },
  {
   "cell_type": "code",
   "execution_count": 84,
   "id": "b3d6ced9-41c2-4f0d-a03e-94b0150b22b1",
   "metadata": {},
   "outputs": [
    {
     "data": {
      "text/plain": [
       "Product\n",
       "AWC Logo Cap                   78008\n",
       "All-Purpose Bike Stand        201064\n",
       "Bike Wash - Dissolver         116008\n",
       "Classic Vest, L               157319\n",
       "Classic Vest, M               161740\n",
       "                               ...  \n",
       "Touring-3000 Yellow, 62        18371\n",
       "Water Bottle - 30 oz.         417843\n",
       "Women's Mountain Shorts, L    286059\n",
       "Women's Mountain Shorts, M    394913\n",
       "Women's Mountain Shorts, S    355189\n",
       "Name: Profit, Length: 130, dtype: int64"
      ]
     },
     "execution_count": 84,
     "metadata": {},
     "output_type": "execute_result"
    }
   ],
   "source": [
    "#What is the total profit margin for each product category?\n",
    "\n",
    "total_profit_each_product=sales.groupby('Product')['Profit'].sum()\n",
    "total_profit_each_product"
   ]
  },
  {
   "cell_type": "code",
   "execution_count": 88,
   "id": "027f9dea-25a8-4344-bd40-7ba60dcc5131",
   "metadata": {},
   "outputs": [
    {
     "data": {
      "text/plain": [
       "Country         Customer_Gender\n",
       "Australia       F                  11506\n",
       "                M                  12430\n",
       "Canada          F                   6496\n",
       "                M                   7682\n",
       "France          F                   5504\n",
       "                M                   5494\n",
       "Germany         F                   5572\n",
       "                M                   5526\n",
       "United Kingdom  F                   6712\n",
       "                M                   6908\n",
       "United States   F                  18934\n",
       "                M                  20272\n",
       "Name: Order_Quantity, dtype: int64"
      ]
     },
     "execution_count": 88,
     "metadata": {},
     "output_type": "execute_result"
    }
   ],
   "source": [
    "#How many orders were placed by customers of each gender in each country?\n",
    "orders_placed_by_customers_each_gender_in_each_country=sales.groupby(['Country','Customer_Gender'])['Order_Quantity'].count()\n",
    "orders_placed_by_customers_each_gender_in_each_country"
   ]
  },
  {
   "cell_type": "code",
   "execution_count": 91,
   "id": "cb9d9614-c493-4b8f-8acb-17f4e9ee65dc",
   "metadata": {},
   "outputs": [
    {
     "data": {
      "text/plain": [
       "Age_Group\n",
       "Adults (35-64)          42584153\n",
       "Seniors (64+)             308042\n",
       "Young Adults (25-34)    30655614\n",
       "Youth (<25)             11723199\n",
       "Name: Revenue, dtype: int64"
      ]
     },
     "execution_count": 91,
     "metadata": {},
     "output_type": "execute_result"
    }
   ],
   "source": [
    "#What is the total revenue generated by customers in each age group?\n",
    "total_revenue_each_age_group=sales.groupby('Age_Group')['Revenue'].sum()\n",
    "\n",
    "total_revenue_each_age_group"
   ]
  },
  {
   "cell_type": "code",
   "execution_count": 92,
   "id": "12d78ed3-bcc9-4a45-b70d-2813ff73d77c",
   "metadata": {},
   "outputs": [
    {
     "data": {
      "text/plain": [
       "Sub_Category\n",
       "Bike Racks            8.008446\n",
       "Bike Stands           5.289474\n",
       "Bottles and Cages    15.225876\n",
       "Caps                 15.435521\n",
       "Cleaners             15.301887\n",
       "Fenders              15.411210\n",
       "Gloves               14.883842\n",
       "Helmets              14.937161\n",
       "Hydration Packs      14.928036\n",
       "Jerseys              14.663062\n",
       "Mountain Bikes        1.354416\n",
       "Road Bikes            1.472152\n",
       "Shorts               15.143813\n",
       "Socks                15.755793\n",
       "Tires and Tubes      15.177177\n",
       "Touring Bikes         1.256896\n",
       "Vests                15.068465\n",
       "Name: Order_Quantity, dtype: float64"
      ]
     },
     "execution_count": 92,
     "metadata": {},
     "output_type": "execute_result"
    }
   ],
   "source": [
    "#What is the average order quantity for each product sub-category?\n",
    "average_order_quantity_each_product_sub_category=sales.groupby('Sub_Category')['Order_Quantity'].mean()\n",
    "average_order_quantity_each_product_sub_category\n"
   ]
  },
  {
   "cell_type": "code",
   "execution_count": null,
   "id": "b14d9408-635b-47b7-be33-b4c8bb0f089b",
   "metadata": {},
   "outputs": [],
   "source": []
  }
 ],
 "metadata": {
  "kernelspec": {
   "display_name": "Python 3 (ipykernel)",
   "language": "python",
   "name": "python3"
  },
  "language_info": {
   "codemirror_mode": {
    "name": "ipython",
    "version": 3
   },
   "file_extension": ".py",
   "mimetype": "text/x-python",
   "name": "python",
   "nbconvert_exporter": "python",
   "pygments_lexer": "ipython3",
   "version": "3.11.5"
  }
 },
 "nbformat": 4,
 "nbformat_minor": 5
}
