{
 "cells": [
  {
   "cell_type": "code",
   "execution_count": 10,
   "id": "10114f3b-7190-4c3a-8269-22fdec149c69",
   "metadata": {},
   "outputs": [],
   "source": [
    "#Inventory mangement system\n",
    "\n",
    "\n",
    "# You are responsible for creating an inventory management system for a small retail store.\n",
    "# The store sells various products, and you need to implement functionalities for adding new products, \n",
    "# updating stock levels, processing sales, and generating reports.\n",
    "\n",
    "inventory={}"
   ]
  },
  {
   "cell_type": "code",
   "execution_count": null,
   "id": "5cb36a48-b439-443f-b2db-74c110422586",
   "metadata": {},
   "outputs": [
    {
     "name": "stdin",
     "output_type": "stream",
     "text": [
      "enter number \n",
      "1-adding new products\n",
      "2-updating stock levels\n",
      "3-processing sales\n",
      "4-generating reports\n",
      ":  3\n",
      "enter number\n",
      "     1-enter,\n",
      "     0-close \n",
      "     :  1\n",
      "enter product_code :  Pen1\n",
      "enter quantity :  50\n"
     ]
    },
    {
     "name": "stdout",
     "output_type": "stream",
     "text": [
      "inalid quantity\n"
     ]
    }
   ],
   "source": [
    "\n",
    "action=int(input( '''enter number \n",
    "1-adding new products\n",
    "2-updating stock levels\n",
    "3-processing sales\n",
    "4-generating reports\n",
    ": '''))\n",
    "if action ==1:\n",
    "    product_name=str(input('enter product name : '))\n",
    "    if product_name.isalpha():\n",
    "        product_price=int(input('enter_price : '))\n",
    "        if product_price>0:\n",
    "            quantity=int(input('enter quantity : '))\n",
    "            if quantity>0 :\n",
    "                product=[product_name,product_price,quantity]\n",
    "                product_code=product_name[0:3]+\"1\"\n",
    "                if product_code in inventory:\n",
    "                    product_code=product_code[0:3]+str(int(product_code[3]+1))\n",
    "                    inventory[product_code]=product\n",
    "                else:\n",
    "                    inventory[product_code]=product\n",
    "                    \n",
    "            else:\n",
    "                print('quantity inavalid')\n",
    "        else:\n",
    "            print('price inalid')\n",
    "    else:\n",
    "        print('invalid name')\n",
    "elif action ==2:\n",
    "    prod_code=str(input('enter product code : ') )\n",
    "    if prod_code in inventory:\n",
    "        product_detail=inventory[prod_code]\n",
    "        quantity=int(input('enter quantity : '))\n",
    "        if quantity>0 :\n",
    "            qty= product_detail[2] + quantity\n",
    "            inventory[prod_code][2]=qty\n",
    "        else:\n",
    "            print('invalid quantity')\n",
    "    else: \n",
    "        print('no product code in inventory')\n",
    "elif action == 3:\n",
    "     num=int(input('''enter number\n",
    "     1-enter,\n",
    "     0-close \n",
    "     : '''))\n",
    "     while num==1:\n",
    "         prod_code=str(input('enter product_code : '))\n",
    "         if prod_code in inventory:\n",
    "             qty=int(input('enter quantity : '))\n",
    "             if qty>0 and inventory[prod_code][2]>qty:\n",
    "                 quantity= product_detail[2] - qty\n",
    "                 inventory[prod_code][2]=quantity\n",
    "                 price= inventory[prod_code][1]\n",
    "                 total_price=price * qty\n",
    "                 print(f'product_code:{prod_code},product_name:{inventory[prod_code][0]},price:{price},quantity:{qty},amount:{total_price}')\n",
    "             else:\n",
    "                 print('invalid quantity')\n",
    "         else:\n",
    "             print('invalid product code')\n",
    "         num=int(input('''enter number\n",
    "         1-enter,\n",
    "         0-close \n",
    "         : '''))  \n",
    "\n",
    "elif action == 4:\n",
    "    if len(inventory)>0:\n",
    "        for k,v in inventory.items():\n",
    "             print(f'product_code:{k},product_name:{v[0]},price:{v[1]},quantity:{v[2]}')\n",
    "    else:\n",
    "        print('No products in inventory')\n",
    "    \n",
    "else:\n",
    "    print('no action')\n",
    "\n",
    "           \n",
    "\n",
    "                 "
   ]
  },
  {
   "cell_type": "code",
   "execution_count": 34,
   "id": "d14a62c7-0348-47be-97c5-53a0f508a51b",
   "metadata": {},
   "outputs": [
    {
     "name": "stdout",
     "output_type": "stream",
     "text": [
      "{'Pen1': ['Pen', 10, 15]}\n"
     ]
    }
   ],
   "source": [
    "print(inventory)\n"
   ]
  },
  {
   "cell_type": "code",
   "execution_count": 18,
   "id": "8e5397f2-3c98-4a0f-896e-0da49a7718e7",
   "metadata": {},
   "outputs": [
    {
     "name": "stdout",
     "output_type": "stream",
     "text": [
      "3\n"
     ]
    }
   ],
   "source": []
  },
  {
   "cell_type": "code",
   "execution_count": null,
   "id": "1a69f99e-dad3-454b-91eb-d2d246b3c76c",
   "metadata": {},
   "outputs": [],
   "source": []
  }
 ],
 "metadata": {
  "kernelspec": {
   "display_name": "Python 3 (ipykernel)",
   "language": "python",
   "name": "python3"
  },
  "language_info": {
   "codemirror_mode": {
    "name": "ipython",
    "version": 3
   },
   "file_extension": ".py",
   "mimetype": "text/x-python",
   "name": "python",
   "nbconvert_exporter": "python",
   "pygments_lexer": "ipython3",
   "version": "3.11.5"
  }
 },
 "nbformat": 4,
 "nbformat_minor": 5
}
