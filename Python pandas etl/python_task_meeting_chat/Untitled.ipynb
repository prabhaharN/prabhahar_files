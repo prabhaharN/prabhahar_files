{
 "cells": [
  {
   "cell_type": "code",
   "execution_count": 2,
   "id": "b1944beb-5875-4262-80f8-fb330ab1cc4d",
   "metadata": {},
   "outputs": [],
   "source": [
    "import pandas as pd\n",
    "import re\n",
    "\n"
   ]
  },
  {
   "cell_type": "code",
   "execution_count": 2,
   "id": "e94129f8-410f-41c3-ab39-ee15d52d1c0a",
   "metadata": {},
   "outputs": [
    {
     "name": "stdout",
     "output_type": "stream",
     "text": [
      "['find 5th highest salary in different way? (2 ways)']\n"
     ]
    },
    {
     "ename": "IndexError",
     "evalue": "list index out of range",
     "output_type": "error",
     "traceback": [
      "\u001b[1;31m---------------------------------------------------------------------------\u001b[0m",
      "\u001b[1;31mIndexError\u001b[0m                                Traceback (most recent call last)",
      "Cell \u001b[1;32mIn[2], line 13\u001b[0m\n\u001b[0;32m     11\u001b[0m ques_\u001b[38;5;241m=\u001b[39m[]\n\u001b[0;32m     12\u001b[0m \u001b[38;5;28;01mfor\u001b[39;00m i \u001b[38;5;129;01min\u001b[39;00m ques:\n\u001b[1;32m---> 13\u001b[0m      que\u001b[38;5;241m=\u001b[39mi\u001b[38;5;241m.\u001b[39msplit(\u001b[38;5;124m'\u001b[39m\u001b[38;5;130;01m\\t\u001b[39;00m\u001b[38;5;124m'\u001b[39m)[\u001b[38;5;241m1\u001b[39m]\n\u001b[0;32m     14\u001b[0m      \u001b[38;5;28;01mif\u001b[39;00m \u001b[38;5;28mlen\u001b[39m(que)\u001b[38;5;241m>\u001b[39m\u001b[38;5;241m0\u001b[39m:\n\u001b[0;32m     15\u001b[0m           ques_\u001b[38;5;241m.\u001b[39mappend(que)\n",
      "\u001b[1;31mIndexError\u001b[0m: list index out of range"
     ]
    }
   ],
   "source": [
    "with open('meeting_saved_chat_sql_refresh_June_24_2024.txt','r',encoding='utf-8') as file:\n",
    "    data= file.read()\n",
    "    file.close()   \n",
    "lines=data.split('\\n14:')\n",
    "\n",
    "question=[]\n",
    "for line in lines:\n",
    "    if 'From Ibridge 360 to Everyone' in  line:\n",
    "        ques=line.split('\\t')[1:]\n",
    "        print(ques)\n",
    "        ques_=[]\n",
    "        for i in ques:\n",
    "             que=i.split('\\t')[1]\n",
    "             if len(que)>0:\n",
    "                  ques_.append(que)\n",
    "        question.append(ques_)   \n",
    "        \n",
    "\n",
    "answer=[]\n",
    "for line in lines:\n",
    "    if 'From Prabhahar N to Ibridge 360(direct message):' in  line:\n",
    "        answer.append(line.split('Ibridge 360(direct message):')[1].strip())\n",
    "answer\n",
    "extra_answer=[]\n",
    "\n",
    "for i in range(1,len(answer)):\n",
    "    v=len(answer[i-1])\n",
    "    if answer[i-1][0:v]==answer[i][0:v]:\n",
    "        extra_answer.append(answer[i-1])\n",
    " \n",
    "        \n",
    "for i in extra_answer:\n",
    "    if i in answer:\n",
    "        answer.remove(i)     \n",
    "\n",
    "tem_ans=answer.copy()\n",
    "tem_ans.pop(10)\n",
    "tem_ans.insert(3,'not answer')\n",
    "tem_ans.insert(8,'not answer')\n",
    "tem_ans.insert(9,'not answer')\n",
    "\n",
    "\n",
    "# meetingdf=pd.DataFrame()\n",
    "\n",
    "# meetingdf['Question']=question\n",
    "# meetingdf['Answer']=answer\n",
    "\n",
    "# meetingdf\n",
    "\n",
    "\n",
    "with open('meeting_question_answer_june_24_2024.txt','a',encoding='utf-8') as file:\n",
    "    for i,j in zip(question,tem_ans):\n",
    "        v=f\"-----question----- ,{i},:  -----answer-----  ,{j}\"\n",
    "        file.write(v)\n",
    "file.close()\n",
    "\n",
    "for i,j in zip(question,tem_ans):\n",
    "    v=f\"-----question----- ,{i},:  -----answer-----  ,{j}\"\n",
    "    print(v)\n",
    "    print('--------------------------------------------------------')"
   ]
  },
  {
   "cell_type": "code",
   "execution_count": null,
   "id": "b553a1cd-9c17-4ea9-9fc6-6b11061480cb",
   "metadata": {},
   "outputs": [],
   "source": [
    " "
   ]
  },
  {
   "cell_type": "code",
   "execution_count": null,
   "id": "69196d30-d680-42a0-bf3b-5722585fda64",
   "metadata": {},
   "outputs": [],
   "source": []
  },
  {
   "cell_type": "code",
   "execution_count": null,
   "id": "58090af8-c0b8-4dff-b8aa-d9751abda845",
   "metadata": {},
   "outputs": [],
   "source": []
  }
 ],
 "metadata": {
  "kernelspec": {
   "display_name": "Python 3 (ipykernel)",
   "language": "python",
   "name": "python3"
  },
  "language_info": {
   "codemirror_mode": {
    "name": "ipython",
    "version": 3
   },
   "file_extension": ".py",
   "mimetype": "text/x-python",
   "name": "python",
   "nbconvert_exporter": "python",
   "pygments_lexer": "ipython3",
   "version": "3.11.5"
  }
 },
 "nbformat": 4,
 "nbformat_minor": 5
}
