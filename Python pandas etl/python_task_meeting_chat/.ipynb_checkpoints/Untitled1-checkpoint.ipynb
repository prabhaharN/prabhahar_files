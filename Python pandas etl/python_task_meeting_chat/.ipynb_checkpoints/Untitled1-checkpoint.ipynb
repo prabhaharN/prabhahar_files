{
 "cells": [
  {
   "cell_type": "code",
   "execution_count": 89,
   "id": "ace9c7c8-c49d-4905-8c12-480e5111da63",
   "metadata": {},
   "outputs": [],
   "source": [
    "import pandas as pd"
   ]
  },
  {
   "cell_type": "code",
   "execution_count": 111,
   "id": "c8842c25-874a-4b6f-97ff-a1edf63f83eb",
   "metadata": {},
   "outputs": [
    {
     "name": "stdout",
     "output_type": "stream",
     "text": [
      "no\n"
     ]
    }
   ],
   "source": [
    "with open('meeting_saved_chat_understanding_star_schema_writing_queries.txt', 'r', encoding='utf-8') as file:\n",
    "    data1 = file.read()\n",
    "    file.close()    \n",
    "if  in data1:\n",
    "    print('yes')\n",
    "else:\n",
    "    print('no')\n",
    "\n",
    "\n"
   ]
  },
  {
   "cell_type": "code",
   "execution_count": 122,
   "id": "185dee4d-d3c6-40b7-ae47-1d19e7128a7a",
   "metadata": {},
   "outputs": [
    {
     "name": "stdin",
     "output_type": "stream",
     "text": [
      "enter name :  dkfl\n",
      "enter file name :  meeting_saved_chat_sql_refresh_June_24_2024.txt\n"
     ]
    },
    {
     "name": "stdout",
     "output_type": "stream",
     "text": [
      "enter the name that used in zoom chat\n"
     ]
    }
   ],
   "source": [
    "name_to_search_answer=str(input('enter name : '))\n",
    "file_name=str(input('enter file name : '))\n",
    "#'meeting_saved_chat_understanding_star_schema_writing_queries.txt'\n",
    "with open(file_name, 'r', encoding='utf-8') as file:\n",
    "    data1 = file.read()\n",
    "    file.close() \n",
    "  \n",
    "   \n",
    "if name_to_search_answer in data1:\n",
    "    with open(file_name, 'r', encoding='utf-8') as file:\n",
    "        data = file.readlines()\n",
    "        file.close()\n",
    "    question=[]\n",
    "    for i in data:\n",
    "        if  'From Ibridge 360 to Everyone' in i:\n",
    "            indx=data.index(i)\n",
    "            dat=data[indx+1:]\n",
    "            for j in dat:\n",
    "                if ('to Ibridge 360' in j) or( 'to Everyone' in j) or ('From Ibridge 360 to' in j) :\n",
    "                    nxt_indx=data.index(j)\n",
    "                    ques=data[indx+1:nxt_indx]\n",
    "                    question.append(ques)\n",
    "                    break\n",
    "\n",
    "    answer=[]\n",
    "    for i in data:\n",
    "        if  (f'From {name_to_search_answer} to Everyone' in i) or (f'From {name_to_search_answer} to Ibridge 360' in i):\n",
    "            indx=data.index(i)\n",
    "            dat=data[indx+1:]\n",
    "            for j in dat:\n",
    "                if ('to Ibridge 360' in j) or( 'to Everyone' in j) or ('From Ibridge 360 to' in j) :\n",
    "                    nxt_indx=data.index(j)\n",
    "                    ans1=data[indx+1:nxt_indx]\n",
    "                    answer.append(ans1)\n",
    "                    break\n",
    "    print('----------------Question--------------------------')\n",
    "    for i in question :\n",
    "         print(i)\n",
    "    print('----------------Answer--------------------------')\n",
    "    for i in answer:\n",
    "         print(i)\n",
    "\n",
    "else:\n",
    "    print('enter the name that used in zoom chat')\n"
   ]
  },
  {
   "cell_type": "code",
   "execution_count": 91,
   "id": "127fe104-c502-4023-a9e3-b1e1be2b73d5",
   "metadata": {},
   "outputs": [],
   "source": [
    "         # for j in data[indx+1:]:\n",
    "         #     if ('to Ibridge 360' in j) or( 'to Everyone' in j) :\n",
    "         #         nex_indx=data.index(j)\n",
    "         #         nex_indx=nex_indx+indx\n",
    "         #         ans1=data[indx+1:nex_indx]\n",
    "         #         print(ans1)\n",
    "         #         break\n",
    "         # break      \n",
    "         # # ans=data[indx+1] \n",
    "         # answer.append(ans1)            \n",
    "\n",
    "# with open('meeting_saved_chat_understanding_star_schema_writing_queries.txt', 'r', encoding='utf-8') as file:\n",
    "#     data = file.readlines()\n",
    "#     file.close()\n",
    "# question=[]\n",
    "# print(data)\n",
    "# for i in data:\n",
    "#     print(i)\n",
    "     # if  'From Ibridge 360 to Everyone' in i:\n",
    "     #     indx=data.index(i)\n",
    "     #     ques=data[indx+1] \n",
    "     #     question.append(ques)  "
   ]
  },
  {
   "cell_type": "code",
   "execution_count": null,
   "id": "4a37a35e-44fc-4e6e-b60a-7c4d6d1d9747",
   "metadata": {},
   "outputs": [],
   "source": [
    "with open('meeting_saved_chat_understanding_star_schema_writing_queries.txt', 'r', encoding='utf-8') as file:\n",
    "    data = file.readlines()\n",
    "    file.close()   \n",
    "question=[]\n",
    "for i in data:\n",
    "     if  'From Ibridge 360 to Everyone' in i:\n",
    "         # indx=data.index(i)\n",
    "         # ques=data[indx+1] \n",
    "         # question.append(ques) \n",
    "         indx=data.index(i)\n",
    "         dat=data[indx+1:]\n",
    "         for j in dat:\n",
    "             if ('to Ibridge 360' in j) or( 'to Everyone' in j) or ('From Ibridge 360 to' in j) :\n",
    "                 nxt_indx=data.index(j)\n",
    "                 ques=data[indx+1:nxt_indx]\n",
    "                 question.append(ques)\n",
    "                 break\n",
    "\n",
    "answer=[]\n",
    "for i in data:\n",
    "     if  'From Cibi Chellasamy to Everyone' in i:\n",
    "         indx=data.index(i)\n",
    "         dat=data[indx+1:]\n",
    "         for j in dat:\n",
    "             if ('to Ibridge 360' in j) or( 'to Everyone' in j) or ('From Ibridge 360 to' in j) :\n",
    "                 nxt_indx=data.index(j)\n",
    "                 ans1=data[indx+1:nxt_indx]\n",
    "                 answer.append(ans1)\n",
    "                 break\n",
    "\n",
    "for i in question :\n",
    "    print(i)\n",
    "\n",
    "for i in answer:\n",
    "    print(i)"
   ]
  }
 ],
 "metadata": {
  "kernelspec": {
   "display_name": "Python 3 (ipykernel)",
   "language": "python",
   "name": "python3"
  },
  "language_info": {
   "codemirror_mode": {
    "name": "ipython",
    "version": 3
   },
   "file_extension": ".py",
   "mimetype": "text/x-python",
   "name": "python",
   "nbconvert_exporter": "python",
   "pygments_lexer": "ipython3",
   "version": "3.11.5"
  }
 },
 "nbformat": 4,
 "nbformat_minor": 5
}
