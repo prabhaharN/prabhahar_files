{
 "cells": [
  {
   "cell_type": "code",
   "execution_count": 89,
   "id": "ace9c7c8-c49d-4905-8c12-480e5111da63",
   "metadata": {},
   "outputs": [],
   "source": [
    "import pandas as pd"
   ]
  },
  {
   "cell_type": "code",
   "execution_count": 111,
   "id": "c8842c25-874a-4b6f-97ff-a1edf63f83eb",
   "metadata": {},
   "outputs": [
    {
     "name": "stdout",
     "output_type": "stream",
     "text": [
      "no\n"
     ]
    }
   ],
   "source": [
    "with open('meeting_saved_chat_understanding_star_schema_writing_queries.txt', 'r', encoding='utf-8') as file:\n",
    "    data1 = file.read()\n",
    "    file.close()    \n",
    "if  in data1:\n",
    "    print('yes')\n",
    "else:\n",
    "    print('no')\n",
    "\n",
    "\n"
   ]
  },
  {
   "cell_type": "code",
   "execution_count": 56,
   "id": "185dee4d-d3c6-40b7-ae47-1d19e7128a7a",
   "metadata": {},
   "outputs": [
    {
     "name": "stdin",
     "output_type": "stream",
     "text": [
      "enter name :  Prabhahar N\n",
      "enter file name :  meeting_saved_chat_understanding_star_schema_writing_queries.txt\n"
     ]
    },
    {
     "name": "stdout",
     "output_type": "stream",
     "text": [
      "----------------Question--------------------------\n",
      "\tWhat does this star schemas are used for?\n",
      "\n",
      "\tWhat kind of data we are dealing here?\n",
      "\n",
      "\tHow many star schemas you see in this model?\n",
      "\n",
      "\tWhich fact table will have more records and why?\n",
      "\n",
      "\tIf I have one policy where customer pays 20 premiums over 20 months, policy started on 1-JAN-2024\n",
      "\n",
      "\tHow many records you will have in policy premium expected fact ? How many records you will have in policty premium paid fact?\n",
      "\n",
      "\tWrite a query to show the expected premium amount for an agent 'UMA' this month\n",
      "\n",
      "\tWrite a query to know agentwise, customerwise, policy count. Consider only records which has more than 5 policies\n",
      "\n",
      "\tWhat is the premium we received in the last month\n",
      "\n",
      "\tWant to see month_name, excepted policy amount, actual received amount for each month in the current year\n",
      "\n",
      "\tWant to see the policies from where we missed the payment for last month? What is your logic. Write the query for the same\n",
      "\n",
      "\twhat is the purpose of period table you see in the system?\n",
      "\n",
      "----------------Answer--------------------------\n",
      "\twe connect dimensional table and fact table based on this star schema\n",
      "\n",
      "\tpolices data\n",
      "\n",
      "\t2 star schema\n",
      "\n",
      "\t20  records in expected fact and 6 records in paid fact\n",
      "\n",
      "\tselect amount from expect_fact where agent='UMA' and  extract( month  from date)=6 and extract( year  from date)=2024\n",
      "\n",
      "\tselect agent_name, customer_name,count(policy) from expected_fact group by agent_name, customer_name having count(policy)>5\n",
      "\n",
      "\tselect sum(amount) from paid_fact where to_char( date, 'mm-yyyy')like '05-2024'\n",
      "\n",
      "\tselect to_char(e.date, 'mmmm') , sum(e.amount) , sum( p.amount) from expected_fact e left join paid_fact p on e.date=p.date and e.customer_name= p.customer_name and e.agent_name= p.agent_name where extract(year from date)= 2024 group by to_char(e.date, 'mmmm')\n",
      "\n"
     ]
    }
   ],
   "source": [
    "name_to_search_answer=str(input('enter name : '))\n",
    "file_name=str(input('enter file name : '))\n",
    "#'meeting_saved_chat_understanding_star_schema_writing_queries.txt'\n",
    "\n",
    "with open(file_name, 'r', encoding='utf-8') as file:\n",
    "    data1 = file.read()\n",
    "    file.close() \n",
    "  \n",
    "   \n",
    "if name_to_search_answer in data1:\n",
    "    with open(file_name, 'r', encoding='utf-8') as file:\n",
    "        data = file.readlines()\n",
    "        file.close()\n",
    "    question=[]\n",
    "    for i in data:\n",
    "        if  'From Ibridge 360 to Everyone' in i:\n",
    "            indx=data.index(i)\n",
    "            dat=data[indx+1:]\n",
    "            for j in dat:\n",
    "                if ('to Ibridge 360' in j) or( 'to Everyone' in j) or ('From Ibridge 360 to' in j) :\n",
    "                    nxt_indx=data.index(j)\n",
    "                    ques=data[indx+1:nxt_indx]\n",
    "                    if len(ques) >1:\n",
    "                        ques='-'.join(ques)\n",
    "                        ques=ques.split('`')\n",
    "                        question.append(ques)\n",
    "                        break\n",
    "                    else:\n",
    "                        question.append(ques)\n",
    "                        break\n",
    "\n",
    "    answer=[]\n",
    "    for i in data:\n",
    "        if  (f'From {name_to_search_answer} to Everyone' in i) or (f'From {name_to_search_answer} to Ibridge 360' in i):\n",
    "            indx=data.index(i)\n",
    "            dat=data[indx+1:]\n",
    "            for j in dat:\n",
    "                if ('to Ibridge 360' in j) or( 'to Everyone' in j) or ('From Ibridge 360 to' in j) :\n",
    "                    nxt_indx=data.index(j)\n",
    "                    ans=data[indx+1:nxt_indx]\n",
    "                    if len(ans) >1:\n",
    "                        ans='-'.join(ans)\n",
    "                        ans=ans.split('`')\n",
    "                        answer.append(ans)\n",
    "                        break\n",
    "                    else:\n",
    "                        answer.append(ans)\n",
    "                        break\n",
    "       \n",
    "    print('----------------Question--------------------------')\n",
    "    for i in question :\n",
    "         for j in i:\n",
    "             print(j)    \n",
    "    print('----------------Answer--------------------------')\n",
    "    for i in answer:\n",
    "        for j in i:\n",
    "            print(j)     \n",
    "\n",
    "else:\n",
    "    print('enter the name that used in zoom chat')\n"
   ]
  },
  {
   "cell_type": "code",
   "execution_count": 91,
   "id": "127fe104-c502-4023-a9e3-b1e1be2b73d5",
   "metadata": {},
   "outputs": [],
   "source": [
    "         # for j in data[indx+1:]:\n",
    "         #     if ('to Ibridge 360' in j) or( 'to Everyone' in j) :\n",
    "         #         nex_indx=data.index(j)\n",
    "         #         nex_indx=nex_indx+indx\n",
    "         #         ans1=data[indx+1:nex_indx]\n",
    "         #         print(ans1)\n",
    "         #         break\n",
    "         # break      \n",
    "         # # ans=data[indx+1] \n",
    "         # answer.append(ans1)            \n",
    "\n",
    "# with open('meeting_saved_chat_understanding_star_schema_writing_queries.txt', 'r', encoding='utf-8') as file:\n",
    "#     data = file.readlines()\n",
    "#     file.close()\n",
    "# question=[]\n",
    "# print(data)\n",
    "# for i in data:\n",
    "#     print(i)\n",
    "     # if  'From Ibridge 360 to Everyone' in i:\n",
    "     #     indx=data.index(i)\n",
    "     #     ques=data[indx+1] \n",
    "     #     question.append(ques)  "
   ]
  },
  {
   "cell_type": "code",
   "execution_count": 53,
   "id": "4a37a35e-44fc-4e6e-b60a-7c4d6d1d9747",
   "metadata": {},
   "outputs": [
    {
     "name": "stdout",
     "output_type": "stream",
     "text": [
      "False\n",
      "False\n",
      "False\n",
      "False\n",
      "False\n",
      "False\n",
      "False\n",
      "False\n",
      "False\n",
      "False\n",
      "False\n",
      "False\n",
      "False\n"
     ]
    }
   ],
   "source": [
    "with open('meeting_saved_chat_sql_refresh_June_24_2024.txt', 'r', encoding='utf-8') as file:\n",
    "    data = file.readlines()\n",
    "    file.close()   \n",
    "# question=[]\n",
    "# for i in data:\n",
    "#      if  'From Ibridge 360 to Everyone' in i:\n",
    "#          # indx=data.index(i)\n",
    "#          # ques=data[indx+1] \n",
    "#          # question.append(ques) \n",
    "#          indx=data.index(i)\n",
    "#          dat=data[indx+1:]\n",
    "#          for j in dat:\n",
    "#              if ('to Ibridge 360' in j) or( 'to Everyone' in j) or ('From Ibridge 360 to' in j) :\n",
    "#                  nxt_indx=data.index(j)\n",
    "#                  ques=data[indx+1:nxt_indx]\n",
    "#                  if len(ques) >1:\n",
    "#                      ques='-'.join(ques)\n",
    "#                      question.append(ques)\n",
    "#                      break\n",
    "#                  else:\n",
    "#                      question.append(ques)\n",
    "#                      break\n",
    "\n",
    "answer=[]\n",
    "for i in data:\n",
    "     if 'From Prabhahar N to Ibridge 360' in i:\n",
    "         indx=data.index(i)\n",
    "         dat=data[indx+1:]\n",
    "         for j in dat:\n",
    "             if ('to Ibridge 360' in j) or( 'to Everyone' in j) or ('From Ibridge 360 to' in j) :\n",
    "                 nxt_indx=data.index(j)\n",
    "                 ans1=data[indx+1:nxt_indx]\n",
    "                 if len(ans1) >1:\n",
    "                     ans1='-'.join(ans1)\n",
    "                     ans1=ans1.split('`')\n",
    "                     answer.append(ans1)\n",
    "                     break\n",
    "                 else:\n",
    "                     answer.append(ans1)\n",
    "                     break\n",
    "\n",
    "# for i in question :\n",
    "#     print(i)\n",
    "\n",
    "\n",
    "dup_answer=[]\n",
    "\n",
    "for i in range(1,len(answer)):\n",
    "    v=len(answer[i-1][0])\n",
    "    cur=answer[i-1][0]\n",
    "    nex=answer[i][0][0:v]\n",
    "    print(cur==nex)\n",
    "    if answer[i-1][0]== answer[i][0][0:v]:\n",
    "        print(answer[i-1][0])\n",
    "        dup_answer.append(answer[i-1][0])\n",
    "\n",
    "# for i in dup_answer:\n",
    "#     if i in answer:\n",
    "#         answer.remove(i) \n",
    "# c=1        \n",
    "# for i in answer:\n",
    "#     for j in i:\n",
    "#         print(c,j,len(j))\n",
    "#     c=c+1"
   ]
  },
  {
   "cell_type": "code",
   "execution_count": 54,
   "id": "72a30089-b23e-4aa3-a52f-7c956d6277e2",
   "metadata": {},
   "outputs": [
    {
     "name": "stdout",
     "output_type": "stream",
     "text": [
      "34\n"
     ]
    }
   ],
   "source": [
    "print(len(\"select case when mark >90 then 'A'\"))"
   ]
  },
  {
   "cell_type": "code",
   "execution_count": null,
   "id": "3eefa311-cf51-4ab4-8712-2df1e3f3ee85",
   "metadata": {},
   "outputs": [],
   "source": []
  }
 ],
 "metadata": {
  "kernelspec": {
   "display_name": "Python 3 (ipykernel)",
   "language": "python",
   "name": "python3"
  },
  "language_info": {
   "codemirror_mode": {
    "name": "ipython",
    "version": 3
   },
   "file_extension": ".py",
   "mimetype": "text/x-python",
   "name": "python",
   "nbconvert_exporter": "python",
   "pygments_lexer": "ipython3",
   "version": "3.11.5"
  }
 },
 "nbformat": 4,
 "nbformat_minor": 5
}
