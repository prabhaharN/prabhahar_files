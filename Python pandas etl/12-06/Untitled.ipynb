{
 "cells": [
  {
   "cell_type": "code",
   "execution_count": 3,
   "id": "5d400546-6a28-438b-8b27-e756c6c5f9d4",
   "metadata": {},
   "outputs": [
    {
     "name": "stdout",
     "output_type": "stream",
     "text": [
      "Error: can only concatenate str (not \"int\") to str\n"
     ]
    }
   ],
   "source": [
    "import logging\n",
    "\n",
    "Log_Format = \"%(levelname)s %(asctime)s - %(message)s\"\n",
    "\n",
    "logging.basicConfig(\n",
    "    filename=\"log.txt\", filemode=\"w\", format=Log_Format, level=logging.error\n",
    ")\n",
    "\n",
    "def add(num1, num2):\n",
    "        try:\n",
    "            \n",
    "            num3 = num1 + num2\n",
    "            return num3\n",
    "        except Exception as e:\n",
    "            logging.exception(\"An error occurred:\")\n",
    "            return f\"Error: {e}\"\n",
    "            \n",
    "\n",
    "logger = logging.getLogger()\n",
    "res = add('s', 0)\n",
    "print(res)    "
   ]
  },
  {
   "cell_type": "code",
   "execution_count": 4,
   "id": "088965ab-7850-4bb4-93f7-1c62f32aa379",
   "metadata": {},
   "outputs": [
    {
     "name": "stdout",
     "output_type": "stream",
     "text": [
      "Exception occurred:  Not Allowed\n"
     ]
    }
   ],
   "source": [
    "class Error(Exception):\n",
    " \n",
    "    # Error is derived class for Exception, but\n",
    "    # Base class for exceptions in this module\n",
    "    pass\n",
    " \n",
    "class TransitionError(Error):\n",
    " \n",
    "    # Raised when an operation attempts a state\n",
    "    # transition that's not allowed.\n",
    "    def __init__(self, prev, nex, msg):\n",
    "        self.prev = prev\n",
    "        self.next = nex\n",
    " \n",
    "        # Error message thrown is saved in msg\n",
    "        self.msg = msg\n",
    " \n",
    "try:\n",
    "    raise(TransitionError(2, 3*2, \"Not Allowed\"))\n",
    " \n",
    "# Value of Exception is stored in error\n",
    "except TransitionError as error:\n",
    "    print('Exception occurred: ', error.msg)"
   ]
  },
  {
   "cell_type": "code",
   "execution_count": 4,
   "id": "95c2595f-a11b-4491-9fa3-689e96931b24",
   "metadata": {},
   "outputs": [],
   "source": [
    "\n"
   ]
  },
  {
   "cell_type": "code",
   "execution_count": null,
   "id": "a205710e-c453-4ad1-b066-7aa8d3ccc424",
   "metadata": {},
   "outputs": [],
   "source": []
  }
 ],
 "metadata": {
  "kernelspec": {
   "display_name": "Python 3 (ipykernel)",
   "language": "python",
   "name": "python3"
  },
  "language_info": {
   "codemirror_mode": {
    "name": "ipython",
    "version": 3
   },
   "file_extension": ".py",
   "mimetype": "text/x-python",
   "name": "python",
   "nbconvert_exporter": "python",
   "pygments_lexer": "ipython3",
   "version": "3.11.5"
  }
 },
 "nbformat": 4,
 "nbformat_minor": 5
}
